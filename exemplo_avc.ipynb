{
  "nbformat": 4,
  "nbformat_minor": 0,
  "metadata": {
    "colab": {
      "provenance": []
    },
    "kernelspec": {
      "name": "python3",
      "display_name": "Python 3"
    },
    "language_info": {
      "name": "python"
    }
  },
  "cells": [
    {
      "cell_type": "code",
      "source": [
        "import pandas as pd"
      ],
      "metadata": {
        "id": "OhLUJUFqAuVy"
      },
      "execution_count": null,
      "outputs": []
    },
    {
      "cell_type": "code",
      "source": [
        "df = {\n",
        "    'data': [\"20/10/2023\", \"15/09/2023\"],\n",
        "    'valor de crédito': [5000, 10000],\n",
        "    'valor de débito': [200, 900],\n",
        "    'relação' : ['', '']\n",
        "}"
      ],
      "metadata": {
        "id": "iHyxaiImBPhP"
      },
      "execution_count": null,
      "outputs": []
    },
    {
      "cell_type": "code",
      "source": [
        "newDf = pd.DataFrame(df)"
      ],
      "metadata": {
        "id": "IxUFMI2PFSoi"
      },
      "execution_count": null,
      "outputs": []
    },
    {
      "cell_type": "code",
      "source": [
        " print(newDf);"
      ],
      "metadata": {
        "colab": {
          "base_uri": "https://localhost:8080/"
        },
        "id": "Z3oOFDM2Fetq",
        "outputId": "49d0eeed-b0b9-4451-95ce-483e169cd636"
      },
      "execution_count": null,
      "outputs": [
        {
          "output_type": "stream",
          "name": "stdout",
          "text": [
            "         data  valor de crédito  valor de débito relação\n",
            "0  20/10/2023              5000              200        \n",
            "1  15/09/2023             10000              900        \n"
          ]
        }
      ]
    },
    {
      "cell_type": "code",
      "source": [
        "deb = newDf['valor de débito']\n",
        "print(deb)"
      ],
      "metadata": {
        "colab": {
          "base_uri": "https://localhost:8080/"
        },
        "id": "dHXbS93MIz3w",
        "outputId": "13b7e42b-1039-4a06-957e-ca82953d8b34"
      },
      "execution_count": null,
      "outputs": [
        {
          "output_type": "stream",
          "name": "stdout",
          "text": [
            "0    200\n",
            "1    900\n",
            "Name: valor de débito, dtype: int64\n"
          ]
        }
      ]
    },
    {
      "cell_type": "code",
      "source": [
        "print(sum(deb))"
      ],
      "metadata": {
        "colab": {
          "base_uri": "https://localhost:8080/"
        },
        "id": "iH_uWRNGJgOW",
        "outputId": "921abdc1-9c6d-48c9-a5ef-3689a6804546"
      },
      "execution_count": null,
      "outputs": [
        {
          "output_type": "stream",
          "name": "stdout",
          "text": [
            "1100\n"
          ]
        }
      ]
    }
  ]
}